{
  "nbformat": 4,
  "nbformat_minor": 0,
  "metadata": {
    "colab": {
      "provenance": [],
      "authorship_tag": "ABX9TyNv36FvGaxGCDnXrKh7EeyK",
      "include_colab_link": true
    },
    "kernelspec": {
      "name": "python3",
      "display_name": "Python 3"
    },
    "language_info": {
      "name": "python"
    }
  },
  "cells": [
    {
      "cell_type": "markdown",
      "metadata": {
        "id": "view-in-github",
        "colab_type": "text"
      },
      "source": [
        "<a href=\"https://colab.research.google.com/github/Somya1911/PA-HW3/blob/main/PA_HW_3.ipynb\" target=\"_parent\"><img src=\"https://colab.research.google.com/assets/colab-badge.svg\" alt=\"Open In Colab\"/></a>"
      ]
    },
    {
      "cell_type": "markdown",
      "source": [
        "# Import libraries"
      ],
      "metadata": {
        "id": "uwQS7_VyWxzY"
      }
    },
    {
      "cell_type": "code",
      "execution_count": 2,
      "metadata": {
        "id": "6ckAcnXAA-Ud"
      },
      "outputs": [],
      "source": [
        "import pandas as pd\n",
        "import numpy as np\n",
        "import matplotlib.pyplot as plt\n",
        "import seaborn as sns\n",
        "from sklearn.preprocessing import StandardScaler, MinMaxScaler\n",
        "from sklearn.decomposition import PCA\n"
      ]
    },
    {
      "cell_type": "markdown",
      "source": [
        "# Import the data"
      ],
      "metadata": {
        "id": "ux5_kGZIW2e8"
      }
    },
    {
      "cell_type": "code",
      "source": [
        "from google.colab import files\n",
        "uploaded = files.upload()  # if using manual upload\n",
        "\n",
        "  # Replace with the actual file name\n"
      ],
      "metadata": {
        "colab": {
          "base_uri": "https://localhost:8080/",
          "height": 73
        },
        "id": "vdvv9MCRBv4X",
        "outputId": "f40f5e59-744c-4470-d1dc-ac328bf63e41"
      },
      "execution_count": 4,
      "outputs": [
        {
          "output_type": "display_data",
          "data": {
            "text/plain": [
              "<IPython.core.display.HTML object>"
            ],
            "text/html": [
              "\n",
              "     <input type=\"file\" id=\"files-15834ff6-505d-47b1-aec5-d618853cb06f\" name=\"files[]\" multiple disabled\n",
              "        style=\"border:none\" />\n",
              "     <output id=\"result-15834ff6-505d-47b1-aec5-d618853cb06f\">\n",
              "      Upload widget is only available when the cell has been executed in the\n",
              "      current browser session. Please rerun this cell to enable.\n",
              "      </output>\n",
              "      <script>// Copyright 2017 Google LLC\n",
              "//\n",
              "// Licensed under the Apache License, Version 2.0 (the \"License\");\n",
              "// you may not use this file except in compliance with the License.\n",
              "// You may obtain a copy of the License at\n",
              "//\n",
              "//      http://www.apache.org/licenses/LICENSE-2.0\n",
              "//\n",
              "// Unless required by applicable law or agreed to in writing, software\n",
              "// distributed under the License is distributed on an \"AS IS\" BASIS,\n",
              "// WITHOUT WARRANTIES OR CONDITIONS OF ANY KIND, either express or implied.\n",
              "// See the License for the specific language governing permissions and\n",
              "// limitations under the License.\n",
              "\n",
              "/**\n",
              " * @fileoverview Helpers for google.colab Python module.\n",
              " */\n",
              "(function(scope) {\n",
              "function span(text, styleAttributes = {}) {\n",
              "  const element = document.createElement('span');\n",
              "  element.textContent = text;\n",
              "  for (const key of Object.keys(styleAttributes)) {\n",
              "    element.style[key] = styleAttributes[key];\n",
              "  }\n",
              "  return element;\n",
              "}\n",
              "\n",
              "// Max number of bytes which will be uploaded at a time.\n",
              "const MAX_PAYLOAD_SIZE = 100 * 1024;\n",
              "\n",
              "function _uploadFiles(inputId, outputId) {\n",
              "  const steps = uploadFilesStep(inputId, outputId);\n",
              "  const outputElement = document.getElementById(outputId);\n",
              "  // Cache steps on the outputElement to make it available for the next call\n",
              "  // to uploadFilesContinue from Python.\n",
              "  outputElement.steps = steps;\n",
              "\n",
              "  return _uploadFilesContinue(outputId);\n",
              "}\n",
              "\n",
              "// This is roughly an async generator (not supported in the browser yet),\n",
              "// where there are multiple asynchronous steps and the Python side is going\n",
              "// to poll for completion of each step.\n",
              "// This uses a Promise to block the python side on completion of each step,\n",
              "// then passes the result of the previous step as the input to the next step.\n",
              "function _uploadFilesContinue(outputId) {\n",
              "  const outputElement = document.getElementById(outputId);\n",
              "  const steps = outputElement.steps;\n",
              "\n",
              "  const next = steps.next(outputElement.lastPromiseValue);\n",
              "  return Promise.resolve(next.value.promise).then((value) => {\n",
              "    // Cache the last promise value to make it available to the next\n",
              "    // step of the generator.\n",
              "    outputElement.lastPromiseValue = value;\n",
              "    return next.value.response;\n",
              "  });\n",
              "}\n",
              "\n",
              "/**\n",
              " * Generator function which is called between each async step of the upload\n",
              " * process.\n",
              " * @param {string} inputId Element ID of the input file picker element.\n",
              " * @param {string} outputId Element ID of the output display.\n",
              " * @return {!Iterable<!Object>} Iterable of next steps.\n",
              " */\n",
              "function* uploadFilesStep(inputId, outputId) {\n",
              "  const inputElement = document.getElementById(inputId);\n",
              "  inputElement.disabled = false;\n",
              "\n",
              "  const outputElement = document.getElementById(outputId);\n",
              "  outputElement.innerHTML = '';\n",
              "\n",
              "  const pickedPromise = new Promise((resolve) => {\n",
              "    inputElement.addEventListener('change', (e) => {\n",
              "      resolve(e.target.files);\n",
              "    });\n",
              "  });\n",
              "\n",
              "  const cancel = document.createElement('button');\n",
              "  inputElement.parentElement.appendChild(cancel);\n",
              "  cancel.textContent = 'Cancel upload';\n",
              "  const cancelPromise = new Promise((resolve) => {\n",
              "    cancel.onclick = () => {\n",
              "      resolve(null);\n",
              "    };\n",
              "  });\n",
              "\n",
              "  // Wait for the user to pick the files.\n",
              "  const files = yield {\n",
              "    promise: Promise.race([pickedPromise, cancelPromise]),\n",
              "    response: {\n",
              "      action: 'starting',\n",
              "    }\n",
              "  };\n",
              "\n",
              "  cancel.remove();\n",
              "\n",
              "  // Disable the input element since further picks are not allowed.\n",
              "  inputElement.disabled = true;\n",
              "\n",
              "  if (!files) {\n",
              "    return {\n",
              "      response: {\n",
              "        action: 'complete',\n",
              "      }\n",
              "    };\n",
              "  }\n",
              "\n",
              "  for (const file of files) {\n",
              "    const li = document.createElement('li');\n",
              "    li.append(span(file.name, {fontWeight: 'bold'}));\n",
              "    li.append(span(\n",
              "        `(${file.type || 'n/a'}) - ${file.size} bytes, ` +\n",
              "        `last modified: ${\n",
              "            file.lastModifiedDate ? file.lastModifiedDate.toLocaleDateString() :\n",
              "                                    'n/a'} - `));\n",
              "    const percent = span('0% done');\n",
              "    li.appendChild(percent);\n",
              "\n",
              "    outputElement.appendChild(li);\n",
              "\n",
              "    const fileDataPromise = new Promise((resolve) => {\n",
              "      const reader = new FileReader();\n",
              "      reader.onload = (e) => {\n",
              "        resolve(e.target.result);\n",
              "      };\n",
              "      reader.readAsArrayBuffer(file);\n",
              "    });\n",
              "    // Wait for the data to be ready.\n",
              "    let fileData = yield {\n",
              "      promise: fileDataPromise,\n",
              "      response: {\n",
              "        action: 'continue',\n",
              "      }\n",
              "    };\n",
              "\n",
              "    // Use a chunked sending to avoid message size limits. See b/62115660.\n",
              "    let position = 0;\n",
              "    do {\n",
              "      const length = Math.min(fileData.byteLength - position, MAX_PAYLOAD_SIZE);\n",
              "      const chunk = new Uint8Array(fileData, position, length);\n",
              "      position += length;\n",
              "\n",
              "      const base64 = btoa(String.fromCharCode.apply(null, chunk));\n",
              "      yield {\n",
              "        response: {\n",
              "          action: 'append',\n",
              "          file: file.name,\n",
              "          data: base64,\n",
              "        },\n",
              "      };\n",
              "\n",
              "      let percentDone = fileData.byteLength === 0 ?\n",
              "          100 :\n",
              "          Math.round((position / fileData.byteLength) * 100);\n",
              "      percent.textContent = `${percentDone}% done`;\n",
              "\n",
              "    } while (position < fileData.byteLength);\n",
              "  }\n",
              "\n",
              "  // All done.\n",
              "  yield {\n",
              "    response: {\n",
              "      action: 'complete',\n",
              "    }\n",
              "  };\n",
              "}\n",
              "\n",
              "scope.google = scope.google || {};\n",
              "scope.google.colab = scope.google.colab || {};\n",
              "scope.google.colab._files = {\n",
              "  _uploadFiles,\n",
              "  _uploadFilesContinue,\n",
              "};\n",
              "})(self);\n",
              "</script> "
            ]
          },
          "metadata": {}
        },
        {
          "output_type": "stream",
          "name": "stdout",
          "text": [
            "Saving Breast Cancer Dataset HW3.csv to Breast Cancer Dataset HW3.csv\n"
          ]
        }
      ]
    },
    {
      "cell_type": "code",
      "source": [
        "# Load data into DataFrame\n",
        "df = pd.read_csv(\"Breast Cancer Dataset HW3.csv\")"
      ],
      "metadata": {
        "id": "lMzWbzZtB8tb"
      },
      "execution_count": 5,
      "outputs": []
    },
    {
      "cell_type": "markdown",
      "source": [
        "# Data Overview"
      ],
      "metadata": {
        "id": "SsCDw1mWW68F"
      }
    },
    {
      "cell_type": "code",
      "source": [
        "df.describe()\n",
        "df.info()\n",
        "df.isnull().sum()"
      ],
      "metadata": {
        "colab": {
          "base_uri": "https://localhost:8080/",
          "height": 985
        },
        "id": "15CgB4vqCCHB",
        "outputId": "bf85c50b-8e7c-4bc5-82e3-925fb5d601b6"
      },
      "execution_count": 4,
      "outputs": [
        {
          "output_type": "stream",
          "name": "stdout",
          "text": [
            "<class 'pandas.core.frame.DataFrame'>\n",
            "RangeIndex: 4024 entries, 0 to 4023\n",
            "Data columns (total 16 columns):\n",
            " #   Column                  Non-Null Count  Dtype  \n",
            "---  ------                  --------------  -----  \n",
            " 0   Age                     3823 non-null   float64\n",
            " 1   Race                    3622 non-null   object \n",
            " 2   Marital Status          3703 non-null   object \n",
            " 3   T Stage                 4024 non-null   object \n",
            " 4   N Stage                 4024 non-null   object \n",
            " 5   6th Stage               4024 non-null   object \n",
            " 6   differentiate           4024 non-null   object \n",
            " 7   Grade                   4024 non-null   object \n",
            " 8   A Stage                 4024 non-null   object \n",
            " 9   Tumor Size              3622 non-null   float64\n",
            " 10  Estrogen Status         3823 non-null   object \n",
            " 11  Progesterone Status     4024 non-null   object \n",
            " 12  Regional Node Examined  3421 non-null   float64\n",
            " 13  Reginol Node Positive   4024 non-null   int64  \n",
            " 14  Survival Months         4024 non-null   int64  \n",
            " 15  Status                  4024 non-null   object \n",
            "dtypes: float64(3), int64(2), object(11)\n",
            "memory usage: 503.1+ KB\n"
          ]
        },
        {
          "output_type": "execute_result",
          "data": {
            "text/plain": [
              "Age                       201\n",
              "Race                      402\n",
              "Marital Status            321\n",
              "T Stage                     0\n",
              "N Stage                     0\n",
              "6th Stage                   0\n",
              "differentiate               0\n",
              "Grade                       0\n",
              "A Stage                     0\n",
              "Tumor Size                402\n",
              "Estrogen Status           201\n",
              "Progesterone Status         0\n",
              "Regional Node Examined    603\n",
              "Reginol Node Positive       0\n",
              "Survival Months             0\n",
              "Status                      0\n",
              "dtype: int64"
            ],
            "text/html": [
              "<div>\n",
              "<style scoped>\n",
              "    .dataframe tbody tr th:only-of-type {\n",
              "        vertical-align: middle;\n",
              "    }\n",
              "\n",
              "    .dataframe tbody tr th {\n",
              "        vertical-align: top;\n",
              "    }\n",
              "\n",
              "    .dataframe thead th {\n",
              "        text-align: right;\n",
              "    }\n",
              "</style>\n",
              "<table border=\"1\" class=\"dataframe\">\n",
              "  <thead>\n",
              "    <tr style=\"text-align: right;\">\n",
              "      <th></th>\n",
              "      <th>0</th>\n",
              "    </tr>\n",
              "  </thead>\n",
              "  <tbody>\n",
              "    <tr>\n",
              "      <th>Age</th>\n",
              "      <td>201</td>\n",
              "    </tr>\n",
              "    <tr>\n",
              "      <th>Race</th>\n",
              "      <td>402</td>\n",
              "    </tr>\n",
              "    <tr>\n",
              "      <th>Marital Status</th>\n",
              "      <td>321</td>\n",
              "    </tr>\n",
              "    <tr>\n",
              "      <th>T Stage</th>\n",
              "      <td>0</td>\n",
              "    </tr>\n",
              "    <tr>\n",
              "      <th>N Stage</th>\n",
              "      <td>0</td>\n",
              "    </tr>\n",
              "    <tr>\n",
              "      <th>6th Stage</th>\n",
              "      <td>0</td>\n",
              "    </tr>\n",
              "    <tr>\n",
              "      <th>differentiate</th>\n",
              "      <td>0</td>\n",
              "    </tr>\n",
              "    <tr>\n",
              "      <th>Grade</th>\n",
              "      <td>0</td>\n",
              "    </tr>\n",
              "    <tr>\n",
              "      <th>A Stage</th>\n",
              "      <td>0</td>\n",
              "    </tr>\n",
              "    <tr>\n",
              "      <th>Tumor Size</th>\n",
              "      <td>402</td>\n",
              "    </tr>\n",
              "    <tr>\n",
              "      <th>Estrogen Status</th>\n",
              "      <td>201</td>\n",
              "    </tr>\n",
              "    <tr>\n",
              "      <th>Progesterone Status</th>\n",
              "      <td>0</td>\n",
              "    </tr>\n",
              "    <tr>\n",
              "      <th>Regional Node Examined</th>\n",
              "      <td>603</td>\n",
              "    </tr>\n",
              "    <tr>\n",
              "      <th>Reginol Node Positive</th>\n",
              "      <td>0</td>\n",
              "    </tr>\n",
              "    <tr>\n",
              "      <th>Survival Months</th>\n",
              "      <td>0</td>\n",
              "    </tr>\n",
              "    <tr>\n",
              "      <th>Status</th>\n",
              "      <td>0</td>\n",
              "    </tr>\n",
              "  </tbody>\n",
              "</table>\n",
              "</div><br><label><b>dtype:</b> int64</label>"
            ]
          },
          "metadata": {},
          "execution_count": 4
        }
      ]
    },
    {
      "cell_type": "markdown",
      "source": [
        "# Plotting to identify outliers"
      ],
      "metadata": {
        "id": "68lziU80XDqu"
      }
    },
    {
      "cell_type": "code",
      "source": [
        "plt.figure(figsize=(10, 6))\n",
        "sns.boxplot(data=df)\n",
        "plt.xticks(rotation=90)\n",
        "plt.show()\n"
      ],
      "metadata": {
        "colab": {
          "base_uri": "https://localhost:8080/",
          "height": 682
        },
        "id": "yzQGUOkXCXjS",
        "outputId": "c9869f9c-ac40-4a42-89a1-bb65f6e80497"
      },
      "execution_count": 6,
      "outputs": [
        {
          "output_type": "display_data",
          "data": {
            "text/plain": [
              "<Figure size 1000x600 with 1 Axes>"
            ],
            "image/png": "[encoded data removed]"
          },
          "metadata": {}
        }
      ]
    },
    {
      "cell_type": "markdown",
      "source": [
        "# Handling Outliers"
      ],
      "metadata": {
        "id": "Zh39Noi1XUtj"
      }
    },
    {
      "cell_type": "code",
      "source": [
        "# Select only numeric columns\n",
        "numeric_df = df.select_dtypes(include=[np.number])\n",
        "\n",
        "# Calculate IQR for numeric columns\n",
        "Q1 = numeric_df.quantile(0.25)\n",
        "Q3 = numeric_df.quantile(0.75)\n",
        "IQR = Q3 - Q1\n",
        "\n",
        "# Filter out rows with outliers in numeric columns only\n",
        "df = df[~((numeric_df < (Q1 - 1.5 * IQR)) | (numeric_df > (Q3 + 1.5 * IQR))).any(axis=1)]\n",
        "\n"
      ],
      "metadata": {
        "id": "kLqASWLNCfwC"
      },
      "execution_count": 7,
      "outputs": []
    },
    {
      "cell_type": "markdown",
      "source": [
        "# Plotting again to check it outliers gone"
      ],
      "metadata": {
        "id": "jvEoZL89XaVu"
      }
    },
    {
      "cell_type": "code",
      "source": [
        "plt.figure(figsize=(10, 6))\n",
        "sns.boxplot(data=df)\n",
        "plt.xticks(rotation=90)\n",
        "plt.show()"
      ],
      "metadata": {
        "colab": {
          "base_uri": "https://localhost:8080/",
          "height": 682
        },
        "id": "7zesJzVAC7fU",
        "outputId": "8515814b-5a6a-4ca7-f1d1-0f7b5340f6e3"
      },
      "execution_count": 8,
      "outputs": [
        {
          "output_type": "display_data",
          "data": {
            "text/plain": [
              "<Figure size 1000x600 with 1 Axes>"
            ],
            "image/png": "[encoded data removed]"
          },
          "metadata": {}
        }
      ]
    },
    {
      "cell_type": "markdown",
      "source": [
        "The updated boxplot shows that outliers have been reduced in some features, like Regional Node Examined and Regional Node Positive, but there are still a few remaining. This is expected, as the IQR method may leave a few extreme points that are still within a reasonable range."
      ],
      "metadata": {
        "id": "OdoxyGNADKcH"
      }
    },
    {
      "cell_type": "markdown",
      "source": [
        "In some cases, especially with medical data, certain outliers may contain valuable information and should not be removed completely."
      ],
      "metadata": {
        "id": "5kKLgklODXLe"
      }
    },
    {
      "cell_type": "markdown",
      "source": [
        "# Imputing missing values"
      ],
      "metadata": {
        "id": "U_VIytWoXgyg"
      }
    },
    {
      "cell_type": "code",
      "source": [
        "# Impute missing values with median for numeric columns only\n",
        "numeric_cols = df.select_dtypes(include=[np.number]).columns\n",
        "df.loc[:, numeric_cols] = df[numeric_cols].fillna(df[numeric_cols].median())\n"
      ],
      "metadata": {
        "id": "0jxFOaSbDLpL"
      },
      "execution_count": 9,
      "outputs": []
    },
    {
      "cell_type": "code",
      "source": [
        "# Impute missing values with mode for categorical columns only\n",
        "categorical_cols = df.select_dtypes(include=['object']).columns\n",
        "for column in categorical_cols:\n",
        "    df.loc[:, column] = df[column].fillna(df[column].mode()[0])\n"
      ],
      "metadata": {
        "id": "5xWJfJJGECjO"
      },
      "execution_count": 10,
      "outputs": []
    },
    {
      "cell_type": "markdown",
      "source": [
        "# Normalize"
      ],
      "metadata": {
        "id": "S65iyiEGXqp8"
      }
    },
    {
      "cell_type": "code",
      "source": [
        "from sklearn.preprocessing import StandardScaler, MinMaxScaler\n",
        "\n",
        "# Standardize Age and Tumor Size\n",
        "standardize_cols = ['Age', 'Tumor Size']\n",
        "scaler = StandardScaler()\n",
        "df[standardize_cols] = scaler.fit_transform(df[standardize_cols])\n",
        "\n",
        "# Normalize Regional Node Examined and Reginol Node Positive\n",
        "normalize_cols = ['Regional Node Examined', 'Reginol Node Positive']\n",
        "minmax_scaler = MinMaxScaler()\n",
        "df[normalize_cols] = minmax_scaler.fit_transform(df[normalize_cols])\n"
      ],
      "metadata": {
        "id": "esTp0oiJM80r"
      },
      "execution_count": 11,
      "outputs": []
    },
    {
      "cell_type": "markdown",
      "source": [
        "# Encoding categorical columns"
      ],
      "metadata": {
        "id": "uHWT6dTSXuxx"
      }
    },
    {
      "cell_type": "code",
      "source": [
        "# One-hot encode categorical columns\n",
        "df = pd.get_dummies(df, columns=categorical_cols)\n"
      ],
      "metadata": {
        "id": "EI9SL-mINdv8"
      },
      "execution_count": 12,
      "outputs": []
    },
    {
      "cell_type": "markdown",
      "source": [
        "# Check for remaining missing values"
      ],
      "metadata": {
        "id": "G6ihQd1DX0a_"
      }
    },
    {
      "cell_type": "code",
      "source": [
        "print(df.isnull().sum())  # Check for any remaining missing values\n",
        "print(df.head())  # Display the first few rows to inspect preprocessing\n"
      ],
      "metadata": {
        "colab": {
          "base_uri": "https://localhost:8080/",
          "height": 0
        },
        "id": "ueh1gUVnNfbu",
        "outputId": "0dd83175-11fd-43be-e372-7752b5d067bb"
      },
      "execution_count": 13,
      "outputs": [
        {
          "output_type": "stream",
          "name": "stdout",
          "text": [
            "Age                                        0\n",
            "Tumor Size                                 0\n",
            "Regional Node Examined                     0\n",
            "Reginol Node Positive                      0\n",
            "Survival Months                            0\n",
            "Race_Black                                 0\n",
            "Race_Other                                 0\n",
            "Race_White                                 0\n",
            "Marital Status_Divorced                    0\n",
            "Marital Status_Married                     0\n",
            "Marital Status_Separated                   0\n",
            "Marital Status_Single                      0\n",
            "Marital Status_Widowed                     0\n",
            "T Stage _T1                                0\n",
            "T Stage _T2                                0\n",
            "T Stage _T3                                0\n",
            "T Stage _T4                                0\n",
            "N Stage_N1                                 0\n",
            "N Stage_N2                                 0\n",
            "N Stage_N3                                 0\n",
            "6th Stage_IIA                              0\n",
            "6th Stage_IIB                              0\n",
            "6th Stage_IIIA                             0\n",
            "6th Stage_IIIB                             0\n",
            "6th Stage_IIIC                             0\n",
            "differentiate_Moderately differentiated    0\n",
            "differentiate_Poorly differentiated        0\n",
            "differentiate_Undifferentiated             0\n",
            "differentiate_Well differentiated          0\n",
            "Grade_ anaplastic; Grade IV                0\n",
            "Grade_1                                    0\n",
            "Grade_2                                    0\n",
            "Grade_3                                    0\n",
            "A Stage_Distant                            0\n",
            "A Stage_Regional                           0\n",
            "Estrogen Status_Negative                   0\n",
            "Estrogen Status_Positive                   0\n",
            "Progesterone Status_Negative               0\n",
            "Progesterone Status_Positive               0\n",
            "Status_Alive                               0\n",
            "Status_Dead                                0\n",
            "dtype: int64\n",
            "        Age  Tumor Size  Regional Node Examined  Reginol Node Positive  \\\n",
            "0  1.613033   -1.547737                0.696970                    0.0   \n",
            "1 -0.455579    0.658694                0.393939                    0.4   \n",
            "2  0.463804    2.651600                0.393939                    0.6   \n",
            "3  0.463804   -0.266584                0.030303                    0.0   \n",
            "4 -0.800347    1.085746                0.060606                    0.0   \n",
            "\n",
            "   Survival Months  Race_Black  Race_Other  Race_White  \\\n",
            "0               60       False       False        True   \n",
            "1               62       False       False        True   \n",
            "2               75       False       False        True   \n",
            "3               84       False       False        True   \n",
            "4               50       False       False        True   \n",
            "\n",
            "   Marital Status_Divorced  Marital Status_Married  ...  Grade_2  Grade_3  \\\n",
            "0                    False                    True  ...    False     True   \n",
            "1                    False                    True  ...     True    False   \n",
            "2                     True                   False  ...     True    False   \n",
            "3                    False                    True  ...    False     True   \n",
            "4                    False                    True  ...    False     True   \n",
            "\n",
            "   A Stage_Distant  A Stage_Regional  Estrogen Status_Negative  \\\n",
            "0            False              True                     False   \n",
            "1            False              True                     False   \n",
            "2            False              True                     False   \n",
            "3            False              True                     False   \n",
            "4            False              True                     False   \n",
            "\n",
            "   Estrogen Status_Positive  Progesterone Status_Negative  \\\n",
            "0                      True                         False   \n",
            "1                      True                         False   \n",
            "2                      True                         False   \n",
            "3                      True                         False   \n",
            "4                      True                         False   \n",
            "\n",
            "   Progesterone Status_Positive  Status_Alive  Status_Dead  \n",
            "0                          True          True        False  \n",
            "1                          True          True        False  \n",
            "2                          True          True        False  \n",
            "3                          True          True        False  \n",
            "4                          True          True        False  \n",
            "\n",
            "[5 rows x 41 columns]\n"
          ]
        }
      ]
    },
    {
      "cell_type": "code",
      "source": [
        "# Define the target variable\n",
        "y = df['Status_Alive']  # Alive = 1, Dead = 0\n"
      ],
      "metadata": {
        "id": "ilDv5TP6O7C_"
      },
      "execution_count": 16,
      "outputs": []
    },
    {
      "cell_type": "code",
      "source": [
        "# Define feature set by dropping the status columns\n",
        "X = df.drop(columns=['Status_Alive', 'Status_Dead'])\n"
      ],
      "metadata": {
        "id": "1Z1EYLiKO95R"
      },
      "execution_count": 17,
      "outputs": []
    },
    {
      "cell_type": "markdown",
      "source": [
        "# Feature Ranking and performing PCA"
      ],
      "metadata": {
        "id": "xPqu1qbwX-SJ"
      }
    },
    {
      "cell_type": "code",
      "source": [
        "from sklearn.feature_selection import mutual_info_classif\n",
        "from sklearn.decomposition import PCA\n",
        "\n",
        "# Feature Ranking\n",
        "mi_scores = mutual_info_classif(X, y, random_state=0)\n",
        "mi_scores_series = pd.Series(mi_scores, index=X.columns).sort_values(ascending=False)\n",
        "top_features = mi_scores_series.head(10).index  # Select top 10 features\n",
        "\n",
        "# Select Top Features and Apply PCA\n",
        "X_top = X[top_features]\n",
        "pca = PCA(n_components=0.95)\n",
        "X_pca = pca.fit_transform(X_top)\n"
      ],
      "metadata": {
        "id": "LEbkmaEBOUrx"
      },
      "execution_count": 18,
      "outputs": []
    },
    {
      "cell_type": "code",
      "source": [
        "print(df.columns)\n"
      ],
      "metadata": {
        "colab": {
          "base_uri": "https://localhost:8080/",
          "height": 0
        },
        "id": "BmP_UN9kOh_Z",
        "outputId": "ff705811-781e-47e3-979d-bf5dc5fe0a3d"
      },
      "execution_count": 15,
      "outputs": [
        {
          "output_type": "stream",
          "name": "stdout",
          "text": [
            "Index(['Age', 'Tumor Size', 'Regional Node Examined', 'Reginol Node Positive',\n",
            "       'Survival Months', 'Race_Black', 'Race_Other', 'Race_White',\n",
            "       'Marital Status_Divorced', 'Marital Status_Married',\n",
            "       'Marital Status_Separated', 'Marital Status_Single ',\n",
            "       'Marital Status_Widowed', 'T Stage _T1', 'T Stage _T2', 'T Stage _T3',\n",
            "       'T Stage _T4', 'N Stage_N1', 'N Stage_N2', 'N Stage_N3',\n",
            "       '6th Stage_IIA', '6th Stage_IIB', '6th Stage_IIIA', '6th Stage_IIIB',\n",
            "       '6th Stage_IIIC', 'differentiate_Moderately differentiated',\n",
            "       'differentiate_Poorly differentiated', 'differentiate_Undifferentiated',\n",
            "       'differentiate_Well differentiated', 'Grade_ anaplastic; Grade IV',\n",
            "       'Grade_1', 'Grade_2', 'Grade_3', 'A Stage_Distant', 'A Stage_Regional',\n",
            "       'Estrogen Status_Negative', 'Estrogen Status_Positive',\n",
            "       'Progesterone Status_Negative', 'Progesterone Status_Positive',\n",
            "       'Status_Alive', 'Status_Dead'],\n",
            "      dtype='object')\n"
          ]
        }
      ]
    },
    {
      "cell_type": "code",
      "source": [
        "# Reset the indices of X and y to ensure they are aligned\n",
        "X = X.reset_index(drop=True)\n",
        "y = y.reset_index(drop=True)\n",
        "\n"
      ],
      "metadata": {
        "id": "d534-LCBPWcw"
      },
      "execution_count": 20,
      "outputs": []
    },
    {
      "cell_type": "code",
      "source": [
        "# Ensure X and y are DataFrames/Series for checking indices\n",
        "if isinstance(X_train, pd.DataFrame) or isinstance(X_train, pd.Series):\n",
        "    print(\"X_train indices:\", X_train.index)\n",
        "if isinstance(y_train, pd.DataFrame) or isinstance(y_train, pd.Series):\n",
        "    print(\"y_train indices:\", y_train.index)\n"
      ],
      "metadata": {
        "colab": {
          "base_uri": "https://localhost:8080/",
          "height": 0
        },
        "id": "IfpUq09IPi6T",
        "outputId": "34d5f581-8ccb-4154-ac54-5e0ca97c10e8"
      },
      "execution_count": 22,
      "outputs": [
        {
          "output_type": "stream",
          "name": "stdout",
          "text": [
            "y_train indices: Index([3737, 3535,  727, 1621, 1498,   84, 3159,   35, 1976,  823,\n",
            "       ...\n",
            "        328, 1209, 3984, 2001,  890,  981, 3784, 1916, 3038, 3178],\n",
            "      dtype='int64', length=2772)\n"
          ]
        }
      ]
    },
    {
      "cell_type": "code",
      "source": [
        "# Ensure X and y are aligned and converted to NumPy arrays if needed\n",
        "X_train, X_test, y_train, y_test = train_test_split(X.values, y.values, test_size=0.2, random_state=0)\n",
        "\n",
        "# Continue with the modeling as normal\n"
      ],
      "metadata": {
        "id": "AJzYrO1OPy2m"
      },
      "execution_count": 23,
      "outputs": []
    },
    {
      "cell_type": "code",
      "source": [
        "X = X.reset_index(drop=True)\n",
        "y = y.reset_index(drop=True)\n"
      ],
      "metadata": {
        "id": "VGyy-wKMQGHc"
      },
      "execution_count": 25,
      "outputs": []
    },
    {
      "cell_type": "code",
      "source": [
        "X_values = X.values\n",
        "y_values = y.values\n"
      ],
      "metadata": {
        "id": "H4kSDbsLQHJW"
      },
      "execution_count": 26,
      "outputs": []
    },
    {
      "cell_type": "code",
      "source": [
        "from sklearn.model_selection import train_test_split\n",
        "\n",
        "# Using values directly for the split\n",
        "X_train, X_test, y_train, y_test = train_test_split(X_values, y_values, test_size=0.2, random_state=0)\n"
      ],
      "metadata": {
        "id": "yboYwAx2QMue"
      },
      "execution_count": 27,
      "outputs": []
    },
    {
      "cell_type": "code",
      "source": [
        "import numpy as np\n",
        "from collections import Counter\n",
        "\n",
        "# Define a function for the KNN algorithm\n",
        "def knn(X_train, y_train, X_test, k=3):\n",
        "    predictions = []\n",
        "    for test_point in X_test:\n",
        "        # Compute the Euclidean distance between the test point and all training points\n",
        "        distances = np.sqrt(np.sum((X_train - test_point) ** 2, axis=1))\n",
        "\n",
        "        # Get the labels of the k nearest neighbors\n",
        "        k_indices = np.argsort(distances)[:k]\n",
        "        k_nearest_labels = [y_train[i] for i in k_indices]\n",
        "\n",
        "        # Determine the most common label\n",
        "        most_common = Counter(k_nearest_labels).most_common(1)[0][0]\n",
        "        predictions.append(most_common)\n",
        "    return predictions\n",
        "\n",
        "# Use train-test split\n",
        "from sklearn.model_selection import train_test_split\n",
        "X_train, X_test, y_train, y_test = train_test_split(X, y, test_size=0.2, random_state=0)\n",
        "\n",
        "# Predict using custom KNN\n",
        "y_pred_knn = knn(X_train, y_train, X_test, k=5)\n",
        "\n"
      ],
      "metadata": {
        "colab": {
          "base_uri": "https://localhost:8080/",
          "height": 339
        },
        "id": "0GmHbF9ZP3OC",
        "outputId": "26c88add-dc85-4876-82e8-695301b2cd23"
      },
      "execution_count": 30,
      "outputs": [
        {
          "output_type": "error",
          "ename": "UFuncTypeError",
          "evalue": "ufunc 'subtract' did not contain a loop with signature matching types (dtype('bool'), dtype('<U3')) -> None",
          "traceback": [
            "\u001b[0;31m---------------------------------------------------------------------------\u001b[0m",
            "\u001b[0;31mUFuncTypeError\u001b[0m                            Traceback (most recent call last)",
            "\u001b[0;32m<ipython-input-30-4f21ab657e34>\u001b[0m in \u001b[0;36m<cell line: 25>\u001b[0;34m()\u001b[0m\n\u001b[1;32m     23\u001b[0m \u001b[0;34m\u001b[0m\u001b[0m\n\u001b[1;32m     24\u001b[0m \u001b[0;31m# Predict using custom KNN\u001b[0m\u001b[0;34m\u001b[0m\u001b[0;34m\u001b[0m\u001b[0m\n\u001b[0;32m---> 25\u001b[0;31m \u001b[0my_pred_knn\u001b[0m \u001b[0;34m=\u001b[0m \u001b[0mknn\u001b[0m\u001b[0;34m(\u001b[0m\u001b[0mX_train\u001b[0m\u001b[0;34m,\u001b[0m \u001b[0my_train\u001b[0m\u001b[0;34m,\u001b[0m \u001b[0mX_test\u001b[0m\u001b[0;34m,\u001b[0m \u001b[0mk\u001b[0m\u001b[0;34m=\u001b[0m\u001b[0;36m5\u001b[0m\u001b[0;34m)\u001b[0m\u001b[0;34m\u001b[0m\u001b[0;34m\u001b[0m\u001b[0m\n\u001b[0m\u001b[1;32m     26\u001b[0m \u001b[0;34m\u001b[0m\u001b[0m\n",
            "\u001b[0;32m<ipython-input-30-4f21ab657e34>\u001b[0m in \u001b[0;36mknn\u001b[0;34m(X_train, y_train, X_test, k)\u001b[0m\n\u001b[1;32m      7\u001b[0m     \u001b[0;32mfor\u001b[0m \u001b[0mtest_point\u001b[0m \u001b[0;32min\u001b[0m \u001b[0mX_test\u001b[0m\u001b[0;34m:\u001b[0m\u001b[0;34m\u001b[0m\u001b[0;34m\u001b[0m\u001b[0m\n\u001b[1;32m      8\u001b[0m         \u001b[0;31m# Compute the Euclidean distance between the test point and all training points\u001b[0m\u001b[0;34m\u001b[0m\u001b[0;34m\u001b[0m\u001b[0m\n\u001b[0;32m----> 9\u001b[0;31m         \u001b[0mdistances\u001b[0m \u001b[0;34m=\u001b[0m \u001b[0mnp\u001b[0m\u001b[0;34m.\u001b[0m\u001b[0msqrt\u001b[0m\u001b[0;34m(\u001b[0m\u001b[0mnp\u001b[0m\u001b[0;34m.\u001b[0m\u001b[0msum\u001b[0m\u001b[0;34m(\u001b[0m\u001b[0;34m(\u001b[0m\u001b[0mX_train\u001b[0m \u001b[0;34m-\u001b[0m \u001b[0mtest_point\u001b[0m\u001b[0;34m)\u001b[0m \u001b[0;34m**\u001b[0m \u001b[0;36m2\u001b[0m\u001b[0;34m,\u001b[0m \u001b[0maxis\u001b[0m\u001b[0;34m=\u001b[0m\u001b[0;36m1\u001b[0m\u001b[0;34m)\u001b[0m\u001b[0;34m)\u001b[0m\u001b[0;34m\u001b[0m\u001b[0;34m\u001b[0m\u001b[0m\n\u001b[0m\u001b[1;32m     10\u001b[0m \u001b[0;34m\u001b[0m\u001b[0m\n\u001b[1;32m     11\u001b[0m         \u001b[0;31m# Get the labels of the k nearest neighbors\u001b[0m\u001b[0;34m\u001b[0m\u001b[0;34m\u001b[0m\u001b[0m\n",
            "\u001b[0;32m/usr/local/lib/python3.10/dist-packages/pandas/core/ops/common.py\u001b[0m in \u001b[0;36mnew_method\u001b[0;34m(self, other)\u001b[0m\n\u001b[1;32m     74\u001b[0m         \u001b[0mother\u001b[0m \u001b[0;34m=\u001b[0m \u001b[0mitem_from_zerodim\u001b[0m\u001b[0;34m(\u001b[0m\u001b[0mother\u001b[0m\u001b[0;34m)\u001b[0m\u001b[0;34m\u001b[0m\u001b[0;34m\u001b[0m\u001b[0m\n\u001b[1;32m     75\u001b[0m \u001b[0;34m\u001b[0m\u001b[0m\n\u001b[0;32m---> 76\u001b[0;31m         \u001b[0;32mreturn\u001b[0m \u001b[0mmethod\u001b[0m\u001b[0;34m(\u001b[0m\u001b[0mself\u001b[0m\u001b[0;34m,\u001b[0m \u001b[0mother\u001b[0m\u001b[0;34m)\u001b[0m\u001b[0;34m\u001b[0m\u001b[0;34m\u001b[0m\u001b[0m\n\u001b[0m\u001b[1;32m     77\u001b[0m \u001b[0;34m\u001b[0m\u001b[0m\n\u001b[1;32m     78\u001b[0m     \u001b[0;32mreturn\u001b[0m \u001b[0mnew_method\u001b[0m\u001b[0;34m\u001b[0m\u001b[0;34m\u001b[0m\u001b[0m\n",
            "\u001b[0;32m/usr/local/lib/python3.10/dist-packages/pandas/core/arraylike.py\u001b[0m in \u001b[0;36m__sub__\u001b[0;34m(self, other)\u001b[0m\n\u001b[1;32m    192\u001b[0m     \u001b[0;34m@\u001b[0m\u001b[0munpack_zerodim_and_defer\u001b[0m\u001b[0;34m(\u001b[0m\u001b[0;34m\"__sub__\"\u001b[0m\u001b[0;34m)\u001b[0m\u001b[0;34m\u001b[0m\u001b[0;34m\u001b[0m\u001b[0m\n\u001b[1;32m    193\u001b[0m     \u001b[0;32mdef\u001b[0m \u001b[0m__sub__\u001b[0m\u001b[0;34m(\u001b[0m\u001b[0mself\u001b[0m\u001b[0;34m,\u001b[0m \u001b[0mother\u001b[0m\u001b[0;34m)\u001b[0m\u001b[0;34m:\u001b[0m\u001b[0;34m\u001b[0m\u001b[0;34m\u001b[0m\u001b[0m\n\u001b[0;32m--> 194\u001b[0;31m         \u001b[0;32mreturn\u001b[0m \u001b[0mself\u001b[0m\u001b[0;34m.\u001b[0m\u001b[0m_arith_method\u001b[0m\u001b[0;34m(\u001b[0m\u001b[0mother\u001b[0m\u001b[0;34m,\u001b[0m \u001b[0moperator\u001b[0m\u001b[0;34m.\u001b[0m\u001b[0msub\u001b[0m\u001b[0;34m)\u001b[0m\u001b[0;34m\u001b[0m\u001b[0;34m\u001b[0m\u001b[0m\n\u001b[0m\u001b[1;32m    195\u001b[0m \u001b[0;34m\u001b[0m\u001b[0m\n\u001b[1;32m    196\u001b[0m     \u001b[0;34m@\u001b[0m\u001b[0munpack_zerodim_and_defer\u001b[0m\u001b[0;34m(\u001b[0m\u001b[0;34m\"__rsub__\"\u001b[0m\u001b[0;34m)\u001b[0m\u001b[0;34m\u001b[0m\u001b[0;34m\u001b[0m\u001b[0m\n",
            "\u001b[0;32m/usr/local/lib/python3.10/dist-packages/pandas/core/frame.py\u001b[0m in \u001b[0;36m_arith_method\u001b[0;34m(self, other, op)\u001b[0m\n\u001b[1;32m   7911\u001b[0m \u001b[0;34m\u001b[0m\u001b[0m\n\u001b[1;32m   7912\u001b[0m         \u001b[0;32mwith\u001b[0m \u001b[0mnp\u001b[0m\u001b[0;34m.\u001b[0m\u001b[0merrstate\u001b[0m\u001b[0;34m(\u001b[0m\u001b[0mall\u001b[0m\u001b[0;34m=\u001b[0m\u001b[0;34m\"ignore\"\u001b[0m\u001b[0;34m)\u001b[0m\u001b[0;34m:\u001b[0m\u001b[0;34m\u001b[0m\u001b[0;34m\u001b[0m\u001b[0m\n\u001b[0;32m-> 7913\u001b[0;31m             \u001b[0mnew_data\u001b[0m \u001b[0;34m=\u001b[0m \u001b[0mself\u001b[0m\u001b[0;34m.\u001b[0m\u001b[0m_dispatch_frame_op\u001b[0m\u001b[0;34m(\u001b[0m\u001b[0mother\u001b[0m\u001b[0;34m,\u001b[0m \u001b[0mop\u001b[0m\u001b[0;34m,\u001b[0m \u001b[0maxis\u001b[0m\u001b[0;34m=\u001b[0m\u001b[0maxis\u001b[0m\u001b[0;34m)\u001b[0m\u001b[0;34m\u001b[0m\u001b[0;34m\u001b[0m\u001b[0m\n\u001b[0m\u001b[1;32m   7914\u001b[0m         \u001b[0;32mreturn\u001b[0m \u001b[0mself\u001b[0m\u001b[0;34m.\u001b[0m\u001b[0m_construct_result\u001b[0m\u001b[0;34m(\u001b[0m\u001b[0mnew_data\u001b[0m\u001b[0;34m)\u001b[0m\u001b[0;34m\u001b[0m\u001b[0;34m\u001b[0m\u001b[0m\n\u001b[1;32m   7915\u001b[0m \u001b[0;34m\u001b[0m\u001b[0m\n",
            "\u001b[0;32m/usr/local/lib/python3.10/dist-packages/pandas/core/frame.py\u001b[0m in \u001b[0;36m_dispatch_frame_op\u001b[0;34m(self, right, func, axis)\u001b[0m\n\u001b[1;32m   7943\u001b[0m         \u001b[0;32mif\u001b[0m \u001b[0;32mnot\u001b[0m \u001b[0mis_list_like\u001b[0m\u001b[0;34m(\u001b[0m\u001b[0mright\u001b[0m\u001b[0;34m)\u001b[0m\u001b[0;34m:\u001b[0m\u001b[0;34m\u001b[0m\u001b[0;34m\u001b[0m\u001b[0m\n\u001b[1;32m   7944\u001b[0m             \u001b[0;31m# i.e. scalar, faster than checking np.ndim(right) == 0\u001b[0m\u001b[0;34m\u001b[0m\u001b[0;34m\u001b[0m\u001b[0m\n\u001b[0;32m-> 7945\u001b[0;31m             \u001b[0mbm\u001b[0m \u001b[0;34m=\u001b[0m \u001b[0mself\u001b[0m\u001b[0;34m.\u001b[0m\u001b[0m_mgr\u001b[0m\u001b[0;34m.\u001b[0m\u001b[0mapply\u001b[0m\u001b[0;34m(\u001b[0m\u001b[0marray_op\u001b[0m\u001b[0;34m,\u001b[0m \u001b[0mright\u001b[0m\u001b[0;34m=\u001b[0m\u001b[0mright\u001b[0m\u001b[0;34m)\u001b[0m\u001b[0;34m\u001b[0m\u001b[0;34m\u001b[0m\u001b[0m\n\u001b[0m\u001b[1;32m   7946\u001b[0m             \u001b[0;32mreturn\u001b[0m \u001b[0mself\u001b[0m\u001b[0;34m.\u001b[0m\u001b[0m_constructor_from_mgr\u001b[0m\u001b[0;34m(\u001b[0m\u001b[0mbm\u001b[0m\u001b[0;34m,\u001b[0m \u001b[0maxes\u001b[0m\u001b[0;34m=\u001b[0m\u001b[0mbm\u001b[0m\u001b[0;34m.\u001b[0m\u001b[0maxes\u001b[0m\u001b[0;34m)\u001b[0m\u001b[0;34m\u001b[0m\u001b[0;34m\u001b[0m\u001b[0m\n\u001b[1;32m   7947\u001b[0m \u001b[0;34m\u001b[0m\u001b[0m\n",
            "\u001b[0;32m/usr/local/lib/python3.10/dist-packages/pandas/core/internals/managers.py\u001b[0m in \u001b[0;36mapply\u001b[0;34m(self, f, align_keys, **kwargs)\u001b[0m\n\u001b[1;32m    359\u001b[0m \u001b[0;34m\u001b[0m\u001b[0m\n\u001b[1;32m    360\u001b[0m             \u001b[0;32mif\u001b[0m \u001b[0mcallable\u001b[0m\u001b[0;34m(\u001b[0m\u001b[0mf\u001b[0m\u001b[0;34m)\u001b[0m\u001b[0;34m:\u001b[0m\u001b[0;34m\u001b[0m\u001b[0;34m\u001b[0m\u001b[0m\n\u001b[0;32m--> 361\u001b[0;31m                 \u001b[0mapplied\u001b[0m \u001b[0;34m=\u001b[0m \u001b[0mb\u001b[0m\u001b[0;34m.\u001b[0m\u001b[0mapply\u001b[0m\u001b[0;34m(\u001b[0m\u001b[0mf\u001b[0m\u001b[0;34m,\u001b[0m \u001b[0;34m**\u001b[0m\u001b[0mkwargs\u001b[0m\u001b[0;34m)\u001b[0m\u001b[0;34m\u001b[0m\u001b[0;34m\u001b[0m\u001b[0m\n\u001b[0m\u001b[1;32m    362\u001b[0m             \u001b[0;32melse\u001b[0m\u001b[0;34m:\u001b[0m\u001b[0;34m\u001b[0m\u001b[0;34m\u001b[0m\u001b[0m\n\u001b[1;32m    363\u001b[0m                 \u001b[0mapplied\u001b[0m \u001b[0;34m=\u001b[0m \u001b[0mgetattr\u001b[0m\u001b[0;34m(\u001b[0m\u001b[0mb\u001b[0m\u001b[0;34m,\u001b[0m \u001b[0mf\u001b[0m\u001b[0;34m)\u001b[0m\u001b[0;34m(\u001b[0m\u001b[0;34m**\u001b[0m\u001b[0mkwargs\u001b[0m\u001b[0;34m)\u001b[0m\u001b[0;34m\u001b[0m\u001b[0;34m\u001b[0m\u001b[0m\n",
            "\u001b[0;32m/usr/local/lib/python3.10/dist-packages/pandas/core/internals/blocks.py\u001b[0m in \u001b[0;36mapply\u001b[0;34m(self, func, **kwargs)\u001b[0m\n\u001b[1;32m    391\u001b[0m         \u001b[0mone\u001b[0m\u001b[0;34m\u001b[0m\u001b[0;34m\u001b[0m\u001b[0m\n\u001b[1;32m    392\u001b[0m         \"\"\"\n\u001b[0;32m--> 393\u001b[0;31m         \u001b[0mresult\u001b[0m \u001b[0;34m=\u001b[0m \u001b[0mfunc\u001b[0m\u001b[0;34m(\u001b[0m\u001b[0mself\u001b[0m\u001b[0;34m.\u001b[0m\u001b[0mvalues\u001b[0m\u001b[0;34m,\u001b[0m \u001b[0;34m**\u001b[0m\u001b[0mkwargs\u001b[0m\u001b[0;34m)\u001b[0m\u001b[0;34m\u001b[0m\u001b[0;34m\u001b[0m\u001b[0m\n\u001b[0m\u001b[1;32m    394\u001b[0m \u001b[0;34m\u001b[0m\u001b[0m\n\u001b[1;32m    395\u001b[0m         \u001b[0mresult\u001b[0m \u001b[0;34m=\u001b[0m \u001b[0mmaybe_coerce_values\u001b[0m\u001b[0;34m(\u001b[0m\u001b[0mresult\u001b[0m\u001b[0;34m)\u001b[0m\u001b[0;34m\u001b[0m\u001b[0;34m\u001b[0m\u001b[0m\n",
            "\u001b[0;32m/usr/local/lib/python3.10/dist-packages/pandas/core/ops/array_ops.py\u001b[0m in \u001b[0;36marithmetic_op\u001b[0;34m(left, right, op)\u001b[0m\n\u001b[1;32m    281\u001b[0m         \u001b[0;31m# error: Argument 1 to \"_na_arithmetic_op\" has incompatible type\u001b[0m\u001b[0;34m\u001b[0m\u001b[0;34m\u001b[0m\u001b[0m\n\u001b[1;32m    282\u001b[0m         \u001b[0;31m# \"Union[ExtensionArray, ndarray[Any, Any]]\"; expected \"ndarray[Any, Any]\"\u001b[0m\u001b[0;34m\u001b[0m\u001b[0;34m\u001b[0m\u001b[0m\n\u001b[0;32m--> 283\u001b[0;31m         \u001b[0mres_values\u001b[0m \u001b[0;34m=\u001b[0m \u001b[0m_na_arithmetic_op\u001b[0m\u001b[0;34m(\u001b[0m\u001b[0mleft\u001b[0m\u001b[0;34m,\u001b[0m \u001b[0mright\u001b[0m\u001b[0;34m,\u001b[0m \u001b[0mop\u001b[0m\u001b[0;34m)\u001b[0m  \u001b[0;31m# type: ignore[arg-type]\u001b[0m\u001b[0;34m\u001b[0m\u001b[0;34m\u001b[0m\u001b[0m\n\u001b[0m\u001b[1;32m    284\u001b[0m \u001b[0;34m\u001b[0m\u001b[0m\n\u001b[1;32m    285\u001b[0m     \u001b[0;32mreturn\u001b[0m \u001b[0mres_values\u001b[0m\u001b[0;34m\u001b[0m\u001b[0;34m\u001b[0m\u001b[0m\n",
            "\u001b[0;32m/usr/local/lib/python3.10/dist-packages/pandas/core/ops/array_ops.py\u001b[0m in \u001b[0;36m_na_arithmetic_op\u001b[0;34m(left, right, op, is_cmp)\u001b[0m\n\u001b[1;32m    216\u001b[0m \u001b[0;34m\u001b[0m\u001b[0m\n\u001b[1;32m    217\u001b[0m     \u001b[0;32mtry\u001b[0m\u001b[0;34m:\u001b[0m\u001b[0;34m\u001b[0m\u001b[0;34m\u001b[0m\u001b[0m\n\u001b[0;32m--> 218\u001b[0;31m         \u001b[0mresult\u001b[0m \u001b[0;34m=\u001b[0m \u001b[0mfunc\u001b[0m\u001b[0;34m(\u001b[0m\u001b[0mleft\u001b[0m\u001b[0;34m,\u001b[0m \u001b[0mright\u001b[0m\u001b[0;34m)\u001b[0m\u001b[0;34m\u001b[0m\u001b[0;34m\u001b[0m\u001b[0m\n\u001b[0m\u001b[1;32m    219\u001b[0m     \u001b[0;32mexcept\u001b[0m \u001b[0mTypeError\u001b[0m\u001b[0;34m:\u001b[0m\u001b[0;34m\u001b[0m\u001b[0;34m\u001b[0m\u001b[0m\n\u001b[1;32m    220\u001b[0m         if not is_cmp and (\n",
            "\u001b[0;31mUFuncTypeError\u001b[0m: ufunc 'subtract' did not contain a loop with signature matching types (dtype('bool'), dtype('<U3')) -> None"
          ]
        }
      ]
    },
    {
      "cell_type": "code",
      "source": [
        "print(X_train.dtypes)\n",
        "print(X_test.dtypes)\n"
      ],
      "metadata": {
        "colab": {
          "base_uri": "https://localhost:8080/",
          "height": 0
        },
        "id": "mOCwVVk3Qpip",
        "outputId": "7c2c350d-8ce3-4628-d04a-60c85e235f35"
      },
      "execution_count": 31,
      "outputs": [
        {
          "output_type": "stream",
          "name": "stdout",
          "text": [
            "Age                                        float64\n",
            "Tumor Size                                 float64\n",
            "Regional Node Examined                     float64\n",
            "Reginol Node Positive                      float64\n",
            "Survival Months                              int64\n",
            "Race_Black                                    bool\n",
            "Race_Other                                    bool\n",
            "Race_White                                    bool\n",
            "Marital Status_Divorced                       bool\n",
            "Marital Status_Married                        bool\n",
            "Marital Status_Separated                      bool\n",
            "Marital Status_Single                         bool\n",
            "Marital Status_Widowed                        bool\n",
            "T Stage _T1                                   bool\n",
            "T Stage _T2                                   bool\n",
            "T Stage _T3                                   bool\n",
            "T Stage _T4                                   bool\n",
            "N Stage_N1                                    bool\n",
            "N Stage_N2                                    bool\n",
            "N Stage_N3                                    bool\n",
            "6th Stage_IIA                                 bool\n",
            "6th Stage_IIB                                 bool\n",
            "6th Stage_IIIA                                bool\n",
            "6th Stage_IIIB                                bool\n",
            "6th Stage_IIIC                                bool\n",
            "differentiate_Moderately differentiated       bool\n",
            "differentiate_Poorly differentiated           bool\n",
            "differentiate_Undifferentiated                bool\n",
            "differentiate_Well differentiated             bool\n",
            "Grade_ anaplastic; Grade IV                   bool\n",
            "Grade_1                                       bool\n",
            "Grade_2                                       bool\n",
            "Grade_3                                       bool\n",
            "A Stage_Distant                               bool\n",
            "A Stage_Regional                              bool\n",
            "Estrogen Status_Negative                      bool\n",
            "Estrogen Status_Positive                      bool\n",
            "Progesterone Status_Negative                  bool\n",
            "Progesterone Status_Positive                  bool\n",
            "dtype: object\n",
            "Age                                        float64\n",
            "Tumor Size                                 float64\n",
            "Regional Node Examined                     float64\n",
            "Reginol Node Positive                      float64\n",
            "Survival Months                              int64\n",
            "Race_Black                                    bool\n",
            "Race_Other                                    bool\n",
            "Race_White                                    bool\n",
            "Marital Status_Divorced                       bool\n",
            "Marital Status_Married                        bool\n",
            "Marital Status_Separated                      bool\n",
            "Marital Status_Single                         bool\n",
            "Marital Status_Widowed                        bool\n",
            "T Stage _T1                                   bool\n",
            "T Stage _T2                                   bool\n",
            "T Stage _T3                                   bool\n",
            "T Stage _T4                                   bool\n",
            "N Stage_N1                                    bool\n",
            "N Stage_N2                                    bool\n",
            "N Stage_N3                                    bool\n",
            "6th Stage_IIA                                 bool\n",
            "6th Stage_IIB                                 bool\n",
            "6th Stage_IIIA                                bool\n",
            "6th Stage_IIIB                                bool\n",
            "6th Stage_IIIC                                bool\n",
            "differentiate_Moderately differentiated       bool\n",
            "differentiate_Poorly differentiated           bool\n",
            "differentiate_Undifferentiated                bool\n",
            "differentiate_Well differentiated             bool\n",
            "Grade_ anaplastic; Grade IV                   bool\n",
            "Grade_1                                       bool\n",
            "Grade_2                                       bool\n",
            "Grade_3                                       bool\n",
            "A Stage_Distant                               bool\n",
            "A Stage_Regional                              bool\n",
            "Estrogen Status_Negative                      bool\n",
            "Estrogen Status_Positive                      bool\n",
            "Progesterone Status_Negative                  bool\n",
            "Progesterone Status_Positive                  bool\n",
            "dtype: object\n"
          ]
        }
      ]
    },
    {
      "cell_type": "code",
      "source": [
        "# Convert all boolean columns to int (0 and 1)\n",
        "X_train = X_train.astype(int)\n",
        "X_test = X_test.astype(int)\n"
      ],
      "metadata": {
        "id": "jh5LsJb_Q4wF"
      },
      "execution_count": 32,
      "outputs": []
    },
    {
      "cell_type": "code",
      "source": [
        "# Predict using the custom KNN function\n",
        "y_pred_knn = knn(X_train.values, y_train.values, X_test.values, k=5)\n"
      ],
      "metadata": {
        "id": "WWNyBIurQ6nT"
      },
      "execution_count": 33,
      "outputs": []
    },
    {
      "cell_type": "code",
      "source": [
        " # Print the first few predictions to verify\n",
        "print(\"KNN Predictions:\", y_pred_knn[:10])  # Print the first 10 predictions\n"
      ],
      "metadata": {
        "colab": {
          "base_uri": "https://localhost:8080/",
          "height": 0
        },
        "id": "Kx-RtlyhRKKh",
        "outputId": "a80377d1-7a5f-42df-c2e9-fd4a7ffd0b53"
      },
      "execution_count": 34,
      "outputs": [
        {
          "output_type": "stream",
          "name": "stdout",
          "text": [
            "KNN Predictions: [False, True, False, True, True, True, True, True, True, True]\n"
          ]
        }
      ]
    },
    {
      "cell_type": "markdown",
      "source": [
        "# KNN"
      ],
      "metadata": {
        "id": "N0K31nFoYPnG"
      }
    },
    {
      "cell_type": "code",
      "source": [
        "from sklearn.metrics import accuracy_score, precision_score, recall_score, f1_score\n",
        "\n",
        "# Evaluate KNN model performance\n",
        "print(\"KNN - Accuracy:\", accuracy_score(y_test, y_pred_knn))\n",
        "print(\"KNN - Precision:\", precision_score(y_test, y_pred_knn, pos_label=1))\n",
        "print(\"KNN - Recall:\", recall_score(y_test, y_pred_knn, pos_label=1))\n",
        "print(\"KNN - F1 Score:\", f1_score(y_test, y_pred_knn, pos_label=1))\n"
      ],
      "metadata": {
        "colab": {
          "base_uri": "https://localhost:8080/",
          "height": 0
        },
        "id": "cdrapL4FRMJZ",
        "outputId": "8c588ea9-3f06-4449-f7c9-d31774d5cb46"
      },
      "execution_count": 35,
      "outputs": [
        {
          "output_type": "stream",
          "name": "stdout",
          "text": [
            "KNN - Accuracy: 0.898989898989899\n",
            "KNN - Precision: 0.9245283018867925\n",
            "KNN - Recall: 0.9639344262295082\n",
            "KNN - F1 Score: 0.9438202247191011\n"
          ]
        }
      ]
    },
    {
      "cell_type": "markdown",
      "source": [
        "# Naive Bayes"
      ],
      "metadata": {
        "id": "I90_Jc5hYS_z"
      }
    },
    {
      "cell_type": "code",
      "source": [
        "from sklearn.naive_bayes import GaussianNB\n",
        "\n",
        "nb_model = GaussianNB()\n",
        "nb_model.fit(X_train, y_train)\n",
        "y_pred_nb = nb_model.predict(X_test)\n"
      ],
      "metadata": {
        "id": "pPSh5tBQRTit"
      },
      "execution_count": 36,
      "outputs": []
    },
    {
      "cell_type": "markdown",
      "source": [
        "# C4.5 Decision Tree"
      ],
      "metadata": {
        "id": "lLd1_m_MYYpv"
      }
    },
    {
      "cell_type": "code",
      "source": [
        "from sklearn.tree import DecisionTreeClassifier\n",
        "\n",
        "dt_model = DecisionTreeClassifier(criterion=\"entropy\", random_state=0)  # C4.5 uses information gain (entropy)\n",
        "dt_model.fit(X_train, y_train)\n",
        "y_pred_dt = dt_model.predict(X_test)\n"
      ],
      "metadata": {
        "id": "2MEMKpIHRYsV"
      },
      "execution_count": 37,
      "outputs": []
    },
    {
      "cell_type": "markdown",
      "source": [
        "# Random Forest"
      ],
      "metadata": {
        "id": "yTDT6p78Yexc"
      }
    },
    {
      "cell_type": "code",
      "source": [
        "from sklearn.tree import DecisionTreeClassifier\n",
        "\n",
        "dt_model = DecisionTreeClassifier(criterion=\"entropy\", random_state=0)  # C4.5 uses information gain (entropy)\n",
        "dt_model.fit(X_train, y_train)\n",
        "y_pred_dt = dt_model.predict(X_test)\n"
      ],
      "metadata": {
        "id": "5Fl4SpDfRZz6"
      },
      "execution_count": 38,
      "outputs": []
    },
    {
      "cell_type": "markdown",
      "source": [],
      "metadata": {
        "id": "MMGxXOLeYgNT"
      }
    },
    {
      "cell_type": "code",
      "source": [
        "from sklearn.ensemble import RandomForestClassifier\n",
        "\n",
        "rf_model = RandomForestClassifier(n_estimators=100, random_state=0)\n",
        "rf_model.fit(X_train, y_train)\n",
        "y_pred_rf = rf_model.predict(X_test)\n"
      ],
      "metadata": {
        "id": "kXa7aCkcRc2f"
      },
      "execution_count": 39,
      "outputs": []
    },
    {
      "cell_type": "markdown",
      "source": [
        "# Gradient Boosting"
      ],
      "metadata": {
        "id": "pONXBcp4Yk7G"
      }
    },
    {
      "cell_type": "code",
      "source": [
        "from sklearn.ensemble import GradientBoostingClassifier\n",
        "\n",
        "gb_model = GradientBoostingClassifier(n_estimators=100, random_state=0)\n",
        "gb_model.fit(X_train, y_train)\n",
        "y_pred_gb = gb_model.predict(X_test)\n"
      ],
      "metadata": {
        "id": "HoYztzoyRgHl"
      },
      "execution_count": 40,
      "outputs": []
    },
    {
      "cell_type": "markdown",
      "source": [
        "# Neural Networks"
      ],
      "metadata": {
        "id": "eFUGPvouYpnJ"
      }
    },
    {
      "cell_type": "code",
      "source": [
        "from tensorflow.keras.models import Sequential\n",
        "from tensorflow.keras.layers import Dense\n",
        "\n",
        "# Define the neural network model\n",
        "nn_model = Sequential([\n",
        "    Dense(64, activation='relu', input_shape=(X_train.shape[1],)),\n",
        "    Dense(32, activation='relu'),\n",
        "    Dense(1, activation='sigmoid')  # For binary classification\n",
        "])\n",
        "\n",
        "# Compile the model\n",
        "nn_model.compile(optimizer='adam', loss='binary_crossentropy', metrics=['accuracy'])\n",
        "\n",
        "# Train the model\n",
        "nn_model.fit(X_train, y_train, epochs=50, batch_size=32, validation_split=0.2)\n",
        "\n",
        "# Predict and convert probabilities to binary outcomes\n",
        "y_pred_nn = (nn_model.predict(X_test) > 0.5).astype(int).flatten()\n"
      ],
      "metadata": {
        "colab": {
          "base_uri": "https://localhost:8080/",
          "height": 0
        },
        "id": "IPmQN23CRjeZ",
        "outputId": "574ce651-fc74-4bf7-ee2e-960ac443fe1e"
      },
      "execution_count": 41,
      "outputs": [
        {
          "output_type": "stream",
          "name": "stderr",
          "text": [
            "/usr/local/lib/python3.10/dist-packages/keras/src/layers/core/dense.py:87: UserWarning: Do not pass an `input_shape`/`input_dim` argument to a layer. When using Sequential models, prefer using an `Input(shape)` object as the first layer in the model instead.\n",
            "  super().__init__(activity_regularizer=activity_regularizer, **kwargs)\n"
          ]
        },
        {
          "output_type": "stream",
          "name": "stdout",
          "text": [
            "Epoch 1/50\n",
            "\u001b[1m70/70\u001b[0m \u001b[32m━━━━━━━━━━━━━━━━━━━━\u001b[0m\u001b[37m\u001b[0m \u001b[1m3s\u001b[0m 9ms/step - accuracy: 0.8720 - loss: 0.3299 - val_accuracy: 0.8811 - val_loss: 0.2964\n",
            "Epoch 2/50\n",
            "\u001b[1m70/70\u001b[0m \u001b[32m━━━━━━━━━━━━━━━━━━━━\u001b[0m\u001b[37m\u001b[0m \u001b[1m0s\u001b[0m 3ms/step - accuracy: 0.8836 - loss: 0.2953 - val_accuracy: 0.9009 - val_loss: 0.3070\n",
            "Epoch 3/50\n",
            "\u001b[1m70/70\u001b[0m \u001b[32m━━━━━━━━━━━━━━━━━━━━\u001b[0m\u001b[37m\u001b[0m \u001b[1m0s\u001b[0m 3ms/step - accuracy: 0.9006 - loss: 0.3010 - val_accuracy: 0.8829 - val_loss: 0.3092\n",
            "Epoch 4/50\n",
            "\u001b[1m70/70\u001b[0m \u001b[32m━━━━━━━━━━━━━━━━━━━━\u001b[0m\u001b[37m\u001b[0m \u001b[1m0s\u001b[0m 3ms/step - accuracy: 0.8926 - loss: 0.3216 - val_accuracy: 0.8955 - val_loss: 0.3109\n",
            "Epoch 5/50\n",
            "\u001b[1m70/70\u001b[0m \u001b[32m━━━━━━━━━━━━━━━━━━━━\u001b[0m\u001b[37m\u001b[0m \u001b[1m0s\u001b[0m 3ms/step - accuracy: 0.9086 - loss: 0.2783 - val_accuracy: 0.8901 - val_loss: 0.3348\n",
            "Epoch 6/50\n",
            "\u001b[1m70/70\u001b[0m \u001b[32m━━━━━━━━━━━━━━━━━━━━\u001b[0m\u001b[37m\u001b[0m \u001b[1m0s\u001b[0m 3ms/step - accuracy: 0.9030 - loss: 0.2914 - val_accuracy: 0.8955 - val_loss: 0.2996\n",
            "Epoch 7/50\n",
            "\u001b[1m70/70\u001b[0m \u001b[32m━━━━━━━━━━━━━━━━━━━━\u001b[0m\u001b[37m\u001b[0m \u001b[1m0s\u001b[0m 3ms/step - accuracy: 0.8993 - loss: 0.2811 - val_accuracy: 0.8991 - val_loss: 0.2866\n",
            "Epoch 8/50\n",
            "\u001b[1m70/70\u001b[0m \u001b[32m━━━━━━━━━━━━━━━━━━━━\u001b[0m\u001b[37m\u001b[0m \u001b[1m0s\u001b[0m 3ms/step - accuracy: 0.9037 - loss: 0.2806 - val_accuracy: 0.9063 - val_loss: 0.2770\n",
            "Epoch 9/50\n",
            "\u001b[1m70/70\u001b[0m \u001b[32m━━━━━━━━━━━━━━━━━━━━\u001b[0m\u001b[37m\u001b[0m \u001b[1m0s\u001b[0m 3ms/step - accuracy: 0.9144 - loss: 0.2514 - val_accuracy: 0.9081 - val_loss: 0.2749\n",
            "Epoch 10/50\n",
            "\u001b[1m70/70\u001b[0m \u001b[32m━━━━━━━━━━━━━━━━━━━━\u001b[0m\u001b[37m\u001b[0m \u001b[1m0s\u001b[0m 3ms/step - accuracy: 0.9214 - loss: 0.2505 - val_accuracy: 0.9045 - val_loss: 0.2755\n",
            "Epoch 11/50\n",
            "\u001b[1m70/70\u001b[0m \u001b[32m━━━━━━━━━━━━━━━━━━━━\u001b[0m\u001b[37m\u001b[0m \u001b[1m0s\u001b[0m 3ms/step - accuracy: 0.9106 - loss: 0.2709 - val_accuracy: 0.9063 - val_loss: 0.2776\n",
            "Epoch 12/50\n",
            "\u001b[1m70/70\u001b[0m \u001b[32m━━━━━━━━━━━━━━━━━━━━\u001b[0m\u001b[37m\u001b[0m \u001b[1m0s\u001b[0m 3ms/step - accuracy: 0.9207 - loss: 0.2684 - val_accuracy: 0.9009 - val_loss: 0.2906\n",
            "Epoch 13/50\n",
            "\u001b[1m70/70\u001b[0m \u001b[32m━━━━━━━━━━━━━━━━━━━━\u001b[0m\u001b[37m\u001b[0m \u001b[1m0s\u001b[0m 3ms/step - accuracy: 0.9099 - loss: 0.2776 - val_accuracy: 0.8991 - val_loss: 0.2948\n",
            "Epoch 14/50\n",
            "\u001b[1m70/70\u001b[0m \u001b[32m━━━━━━━━━━━━━━━━━━━━\u001b[0m\u001b[37m\u001b[0m \u001b[1m0s\u001b[0m 3ms/step - accuracy: 0.9187 - loss: 0.2752 - val_accuracy: 0.9063 - val_loss: 0.2806\n",
            "Epoch 15/50\n",
            "\u001b[1m70/70\u001b[0m \u001b[32m━━━━━━━━━━━━━━━━━━━━\u001b[0m\u001b[37m\u001b[0m \u001b[1m0s\u001b[0m 2ms/step - accuracy: 0.9141 - loss: 0.2571 - val_accuracy: 0.9063 - val_loss: 0.2733\n",
            "Epoch 16/50\n",
            "\u001b[1m70/70\u001b[0m \u001b[32m━━━━━━━━━━━━━━━━━━━━\u001b[0m\u001b[37m\u001b[0m \u001b[1m0s\u001b[0m 2ms/step - accuracy: 0.9228 - loss: 0.2454 - val_accuracy: 0.9045 - val_loss: 0.2737\n",
            "Epoch 17/50\n",
            "\u001b[1m70/70\u001b[0m \u001b[32m━━━━━━━━━━━━━━━━━━━━\u001b[0m\u001b[37m\u001b[0m \u001b[1m0s\u001b[0m 4ms/step - accuracy: 0.9130 - loss: 0.2666 - val_accuracy: 0.8991 - val_loss: 0.3089\n",
            "Epoch 18/50\n",
            "\u001b[1m70/70\u001b[0m \u001b[32m━━━━━━━━━━━━━━━━━━━━\u001b[0m\u001b[37m\u001b[0m \u001b[1m0s\u001b[0m 3ms/step - accuracy: 0.9173 - loss: 0.2565 - val_accuracy: 0.9081 - val_loss: 0.2778\n",
            "Epoch 19/50\n",
            "\u001b[1m70/70\u001b[0m \u001b[32m━━━━━━━━━━━━━━━━━━━━\u001b[0m\u001b[37m\u001b[0m \u001b[1m0s\u001b[0m 3ms/step - accuracy: 0.9238 - loss: 0.2409 - val_accuracy: 0.9081 - val_loss: 0.2736\n",
            "Epoch 20/50\n",
            "\u001b[1m70/70\u001b[0m \u001b[32m━━━━━━━━━━━━━━━━━━━━\u001b[0m\u001b[37m\u001b[0m \u001b[1m0s\u001b[0m 2ms/step - accuracy: 0.9132 - loss: 0.2635 - val_accuracy: 0.9081 - val_loss: 0.2730\n",
            "Epoch 21/50\n",
            "\u001b[1m70/70\u001b[0m \u001b[32m━━━━━━━━━━━━━━━━━━━━\u001b[0m\u001b[37m\u001b[0m \u001b[1m0s\u001b[0m 3ms/step - accuracy: 0.9138 - loss: 0.2550 - val_accuracy: 0.9027 - val_loss: 0.2800\n",
            "Epoch 22/50\n",
            "\u001b[1m70/70\u001b[0m \u001b[32m━━━━━━━━━━━━━━━━━━━━\u001b[0m\u001b[37m\u001b[0m \u001b[1m0s\u001b[0m 3ms/step - accuracy: 0.9214 - loss: 0.2437 - val_accuracy: 0.9027 - val_loss: 0.2931\n",
            "Epoch 23/50\n",
            "\u001b[1m70/70\u001b[0m \u001b[32m━━━━━━━━━━━━━━━━━━━━\u001b[0m\u001b[37m\u001b[0m \u001b[1m0s\u001b[0m 3ms/step - accuracy: 0.9075 - loss: 0.2658 - val_accuracy: 0.9081 - val_loss: 0.2758\n",
            "Epoch 24/50\n",
            "\u001b[1m70/70\u001b[0m \u001b[32m━━━━━━━━━━━━━━━━━━━━\u001b[0m\u001b[37m\u001b[0m \u001b[1m0s\u001b[0m 3ms/step - accuracy: 0.9160 - loss: 0.2553 - val_accuracy: 0.9081 - val_loss: 0.2735\n",
            "Epoch 25/50\n",
            "\u001b[1m70/70\u001b[0m \u001b[32m━━━━━━━━━━━━━━━━━━━━\u001b[0m\u001b[37m\u001b[0m \u001b[1m0s\u001b[0m 2ms/step - accuracy: 0.9123 - loss: 0.2684 - val_accuracy: 0.9045 - val_loss: 0.2735\n",
            "Epoch 26/50\n",
            "\u001b[1m70/70\u001b[0m \u001b[32m━━━━━━━━━━━━━━━━━━━━\u001b[0m\u001b[37m\u001b[0m \u001b[1m0s\u001b[0m 2ms/step - accuracy: 0.9235 - loss: 0.2346 - val_accuracy: 0.9081 - val_loss: 0.2784\n",
            "Epoch 27/50\n",
            "\u001b[1m70/70\u001b[0m \u001b[32m━━━━━━━━━━━━━━━━━━━━\u001b[0m\u001b[37m\u001b[0m \u001b[1m0s\u001b[0m 3ms/step - accuracy: 0.9195 - loss: 0.2525 - val_accuracy: 0.9099 - val_loss: 0.2761\n",
            "Epoch 28/50\n",
            "\u001b[1m70/70\u001b[0m \u001b[32m━━━━━━━━━━━━━━━━━━━━\u001b[0m\u001b[37m\u001b[0m \u001b[1m0s\u001b[0m 3ms/step - accuracy: 0.9165 - loss: 0.2473 - val_accuracy: 0.9081 - val_loss: 0.2711\n",
            "Epoch 29/50\n",
            "\u001b[1m70/70\u001b[0m \u001b[32m━━━━━━━━━━━━━━━━━━━━\u001b[0m\u001b[37m\u001b[0m \u001b[1m0s\u001b[0m 3ms/step - accuracy: 0.9252 - loss: 0.2491 - val_accuracy: 0.9063 - val_loss: 0.2752\n",
            "Epoch 30/50\n",
            "\u001b[1m70/70\u001b[0m \u001b[32m━━━━━━━━━━━━━━━━━━━━\u001b[0m\u001b[37m\u001b[0m \u001b[1m0s\u001b[0m 3ms/step - accuracy: 0.9096 - loss: 0.2736 - val_accuracy: 0.9099 - val_loss: 0.2754\n",
            "Epoch 31/50\n",
            "\u001b[1m70/70\u001b[0m \u001b[32m━━━━━━━━━━━━━━━━━━━━\u001b[0m\u001b[37m\u001b[0m \u001b[1m0s\u001b[0m 3ms/step - accuracy: 0.9264 - loss: 0.2279 - val_accuracy: 0.9081 - val_loss: 0.2793\n",
            "Epoch 32/50\n",
            "\u001b[1m70/70\u001b[0m \u001b[32m━━━━━━━━━━━━━━━━━━━━\u001b[0m\u001b[37m\u001b[0m \u001b[1m0s\u001b[0m 2ms/step - accuracy: 0.9239 - loss: 0.2395 - val_accuracy: 0.9117 - val_loss: 0.2808\n",
            "Epoch 33/50\n",
            "\u001b[1m70/70\u001b[0m \u001b[32m━━━━━━━━━━━━━━━━━━━━\u001b[0m\u001b[37m\u001b[0m \u001b[1m0s\u001b[0m 2ms/step - accuracy: 0.9144 - loss: 0.2636 - val_accuracy: 0.9063 - val_loss: 0.2772\n",
            "Epoch 34/50\n",
            "\u001b[1m70/70\u001b[0m \u001b[32m━━━━━━━━━━━━━━━━━━━━\u001b[0m\u001b[37m\u001b[0m \u001b[1m0s\u001b[0m 2ms/step - accuracy: 0.9237 - loss: 0.2453 - val_accuracy: 0.9117 - val_loss: 0.2728\n",
            "Epoch 35/50\n",
            "\u001b[1m70/70\u001b[0m \u001b[32m━━━━━━━━━━━━━━━━━━━━\u001b[0m\u001b[37m\u001b[0m \u001b[1m0s\u001b[0m 3ms/step - accuracy: 0.9166 - loss: 0.2624 - val_accuracy: 0.8973 - val_loss: 0.3056\n",
            "Epoch 36/50\n",
            "\u001b[1m70/70\u001b[0m \u001b[32m━━━━━━━━━━━━━━━━━━━━\u001b[0m\u001b[37m\u001b[0m \u001b[1m0s\u001b[0m 3ms/step - accuracy: 0.9128 - loss: 0.2797 - val_accuracy: 0.9081 - val_loss: 0.2884\n",
            "Epoch 37/50\n",
            "\u001b[1m70/70\u001b[0m \u001b[32m━━━━━━━━━━━━━━━━━━━━\u001b[0m\u001b[37m\u001b[0m \u001b[1m0s\u001b[0m 4ms/step - accuracy: 0.9283 - loss: 0.2293 - val_accuracy: 0.9081 - val_loss: 0.2751\n",
            "Epoch 38/50\n",
            "\u001b[1m70/70\u001b[0m \u001b[32m━━━━━━━━━━━━━━━━━━━━\u001b[0m\u001b[37m\u001b[0m \u001b[1m1s\u001b[0m 4ms/step - accuracy: 0.9268 - loss: 0.2381 - val_accuracy: 0.9117 - val_loss: 0.2727\n",
            "Epoch 39/50\n",
            "\u001b[1m70/70\u001b[0m \u001b[32m━━━━━━━━━━━━━━━━━━━━\u001b[0m\u001b[37m\u001b[0m \u001b[1m1s\u001b[0m 5ms/step - accuracy: 0.9230 - loss: 0.2367 - val_accuracy: 0.9135 - val_loss: 0.2748\n",
            "Epoch 40/50\n",
            "\u001b[1m70/70\u001b[0m \u001b[32m━━━━━━━━━━━━━━━━━━━━\u001b[0m\u001b[37m\u001b[0m \u001b[1m1s\u001b[0m 5ms/step - accuracy: 0.9284 - loss: 0.2249 - val_accuracy: 0.9063 - val_loss: 0.2800\n",
            "Epoch 41/50\n",
            "\u001b[1m70/70\u001b[0m \u001b[32m━━━━━━━━━━━━━━━━━━━━\u001b[0m\u001b[37m\u001b[0m \u001b[1m1s\u001b[0m 5ms/step - accuracy: 0.9235 - loss: 0.2340 - val_accuracy: 0.9045 - val_loss: 0.2865\n",
            "Epoch 42/50\n",
            "\u001b[1m70/70\u001b[0m \u001b[32m━━━━━━━━━━━━━━━━━━━━\u001b[0m\u001b[37m\u001b[0m \u001b[1m0s\u001b[0m 2ms/step - accuracy: 0.9217 - loss: 0.2441 - val_accuracy: 0.9117 - val_loss: 0.2739\n",
            "Epoch 43/50\n",
            "\u001b[1m70/70\u001b[0m \u001b[32m━━━━━━━━━━━━━━━━━━━━\u001b[0m\u001b[37m\u001b[0m \u001b[1m0s\u001b[0m 3ms/step - accuracy: 0.9184 - loss: 0.2359 - val_accuracy: 0.9081 - val_loss: 0.2798\n",
            "Epoch 44/50\n",
            "\u001b[1m70/70\u001b[0m \u001b[32m━━━━━━━━━━━━━━━━━━━━\u001b[0m\u001b[37m\u001b[0m \u001b[1m0s\u001b[0m 3ms/step - accuracy: 0.9159 - loss: 0.2552 - val_accuracy: 0.9009 - val_loss: 0.2830\n",
            "Epoch 45/50\n",
            "\u001b[1m70/70\u001b[0m \u001b[32m━━━━━━━━━━━━━━━━━━━━\u001b[0m\u001b[37m\u001b[0m \u001b[1m0s\u001b[0m 3ms/step - accuracy: 0.9283 - loss: 0.2367 - val_accuracy: 0.9027 - val_loss: 0.2914\n",
            "Epoch 46/50\n",
            "\u001b[1m70/70\u001b[0m \u001b[32m━━━━━━━━━━━━━━━━━━━━\u001b[0m\u001b[37m\u001b[0m \u001b[1m0s\u001b[0m 3ms/step - accuracy: 0.9174 - loss: 0.2471 - val_accuracy: 0.9099 - val_loss: 0.2862\n",
            "Epoch 47/50\n",
            "\u001b[1m70/70\u001b[0m \u001b[32m━━━━━━━━━━━━━━━━━━━━\u001b[0m\u001b[37m\u001b[0m \u001b[1m0s\u001b[0m 3ms/step - accuracy: 0.9196 - loss: 0.2459 - val_accuracy: 0.9027 - val_loss: 0.2933\n",
            "Epoch 48/50\n",
            "\u001b[1m70/70\u001b[0m \u001b[32m━━━━━━━━━━━━━━━━━━━━\u001b[0m\u001b[37m\u001b[0m \u001b[1m0s\u001b[0m 3ms/step - accuracy: 0.9291 - loss: 0.2340 - val_accuracy: 0.9063 - val_loss: 0.2779\n",
            "Epoch 49/50\n",
            "\u001b[1m70/70\u001b[0m \u001b[32m━━━━━━━━━━━━━━━━━━━━\u001b[0m\u001b[37m\u001b[0m \u001b[1m0s\u001b[0m 3ms/step - accuracy: 0.9207 - loss: 0.2320 - val_accuracy: 0.9009 - val_loss: 0.2806\n",
            "Epoch 50/50\n",
            "\u001b[1m70/70\u001b[0m \u001b[32m━━━━━━━━━━━━━━━━━━━━\u001b[0m\u001b[37m\u001b[0m \u001b[1m0s\u001b[0m 4ms/step - accuracy: 0.9293 - loss: 0.2238 - val_accuracy: 0.9063 - val_loss: 0.2800\n",
            "\u001b[1m22/22\u001b[0m \u001b[32m━━━━━━━━━━━━━━━━━━━━\u001b[0m\u001b[37m\u001b[0m \u001b[1m0s\u001b[0m 3ms/step\n"
          ]
        }
      ]
    },
    {
      "cell_type": "markdown",
      "source": [
        "# Performance of all the models"
      ],
      "metadata": {
        "id": "mp8kNpAzYsrd"
      }
    },
    {
      "cell_type": "code",
      "source": [
        "from sklearn.metrics import accuracy_score, precision_score, recall_score, f1_score\n",
        "\n",
        "# Define the evaluation function\n",
        "def evaluate_model(y_true, y_pred, model_name=\"Model\"):\n",
        "    print(f\"{model_name} - Accuracy:\", accuracy_score(y_true, y_pred))\n",
        "    print(f\"{model_name} - Precision:\", precision_score(y_true, y_pred, pos_label=1))\n",
        "    print(f\"{model_name} - Recall:\", recall_score(y_true, y_pred, pos_label=1))\n",
        "    print(f\"{model_name} - F1 Score:\", f1_score(y_true, y_pred, pos_label=1))\n",
        "    print(\"\")\n",
        "\n",
        "# Evaluate each model\n",
        "evaluate_model(y_test, y_pred_knn, \"KNN\")\n",
        "evaluate_model(y_test, y_pred_nb, \"Naive Bayes\")\n",
        "evaluate_model(y_test, y_pred_dt, \"Decision Tree\")\n",
        "evaluate_model(y_test, y_pred_rf, \"Random Forest\")\n",
        "evaluate_model(y_test, y_pred_gb, \"Gradient Boosting\")\n",
        "evaluate_model(y_test, y_pred_nn, \"Neural Network\")\n",
        "\n"
      ],
      "metadata": {
        "colab": {
          "base_uri": "https://localhost:8080/",
          "height": 0
        },
        "id": "YUZZFaVkRv2Z",
        "outputId": "9b0d9867-5fb5-4bee-b610-4805b3ede6f7"
      },
      "execution_count": 43,
      "outputs": [
        {
          "output_type": "stream",
          "name": "stdout",
          "text": [
            "KNN - Accuracy: 0.898989898989899\n",
            "KNN - Precision: 0.9245283018867925\n",
            "KNN - Recall: 0.9639344262295082\n",
            "KNN - F1 Score: 0.9438202247191011\n",
            "\n",
            "Naive Bayes - Accuracy: 0.8441558441558441\n",
            "Naive Bayes - Precision: 0.9048387096774193\n",
            "Naive Bayes - Recall: 0.919672131147541\n",
            "Naive Bayes - F1 Score: 0.9121951219512195\n",
            "\n",
            "Decision Tree - Accuracy: 0.8556998556998557\n",
            "Decision Tree - Precision: 0.9292929292929293\n",
            "Decision Tree - Recall: 0.9049180327868852\n",
            "Decision Tree - F1 Score: 0.9169435215946844\n",
            "\n",
            "Random Forest - Accuracy: 0.8874458874458875\n",
            "Random Forest - Precision: 0.9235668789808917\n",
            "Random Forest - Recall: 0.9508196721311475\n",
            "Random Forest - F1 Score: 0.9369951534733441\n",
            "\n",
            "Gradient Boosting - Accuracy: 0.9105339105339105\n",
            "Gradient Boosting - Precision: 0.926791277258567\n",
            "Gradient Boosting - Recall: 0.9754098360655737\n",
            "Gradient Boosting - F1 Score: 0.950479233226837\n",
            "\n",
            "Neural Network - Accuracy: 0.9090909090909091\n",
            "Neural Network - Precision: 0.9214175654853621\n",
            "Neural Network - Recall: 0.980327868852459\n",
            "Neural Network - F1 Score: 0.9499602859412232\n",
            "\n"
          ]
        }
      ]
    },
    {
      "cell_type": "markdown",
      "source": [
        "# Hyperparameter Tuning"
      ],
      "metadata": {
        "id": "kGwsyAcRY08S"
      }
    },
    {
      "cell_type": "code",
      "source": [
        "from sklearn.model_selection import GridSearchCV\n"
      ],
      "metadata": {
        "id": "j1XKhN54STt7"
      },
      "execution_count": 44,
      "outputs": []
    },
    {
      "cell_type": "code",
      "source": [
        "# Define the parameter grid for Random Forest\n",
        "rf_param_grid = {\n",
        "    'n_estimators': [50, 100, 200],\n",
        "    'max_depth': [None, 10, 20, 30],\n",
        "    'min_samples_split': [2, 5, 10]\n",
        "}\n",
        "\n",
        "# Initialize the model\n",
        "rf_model = RandomForestClassifier(random_state=0)\n",
        "\n",
        "# Set up Grid Search\n",
        "rf_grid_search = GridSearchCV(estimator=rf_model, param_grid=rf_param_grid, cv=5, scoring='accuracy', n_jobs=-1)\n",
        "\n",
        "# Fit Grid Search\n",
        "rf_grid_search.fit(X_train, y_train)\n",
        "\n",
        "# Get the best parameters and performance\n",
        "print(\"Best Random Forest Parameters:\", rf_grid_search.best_params_)\n",
        "print(\"Best Random Forest Accuracy:\", rf_grid_search.best_score_)\n",
        "\n",
        "# Predict using the best model\n",
        "y_pred_rf_best = rf_grid_search.best_estimator_.predict(X_test)\n",
        "\n",
        "# Evaluate the best model\n",
        "evaluate_model(y_test, y_pred_rf_best, \"Random Forest (Best)\")\n"
      ],
      "metadata": {
        "colab": {
          "base_uri": "https://localhost:8080/",
          "height": 0
        },
        "id": "8dDjRuIlSUzY",
        "outputId": "9600ef01-6c8e-460a-938e-f2cba8d1b953"
      },
      "execution_count": 45,
      "outputs": [
        {
          "output_type": "stream",
          "name": "stdout",
          "text": [
            "Best Random Forest Parameters: {'max_depth': 10, 'min_samples_split': 10, 'n_estimators': 50}\n",
            "Best Random Forest Accuracy: 0.9123361628776792\n",
            "Random Forest (Best) - Accuracy: 0.9047619047619048\n",
            "Random Forest (Best) - Precision: 0.9171779141104295\n",
            "Random Forest (Best) - Recall: 0.980327868852459\n",
            "Random Forest (Best) - F1 Score: 0.9477020602218701\n",
            "\n"
          ]
        }
      ]
    },
    {
      "cell_type": "code",
      "source": [
        "# Define the parameter grid for Gradient Boosting\n",
        "gb_param_grid = {\n",
        "    'n_estimators': [50, 100, 200],\n",
        "    'learning_rate': [0.01, 0.1, 0.2],\n",
        "    'max_depth': [3, 5, 7]\n",
        "}\n",
        "\n",
        "# Initialize the model\n",
        "gb_model = GradientBoostingClassifier(random_state=0)\n",
        "\n",
        "# Set up Grid Search\n",
        "gb_grid_search = GridSearchCV(estimator=gb_model, param_grid=gb_param_grid, cv=5, scoring='accuracy', n_jobs=-1)\n",
        "\n",
        "# Fit Grid Search\n",
        "gb_grid_search.fit(X_train, y_train)\n",
        "\n",
        "# Get the best parameters and performance\n",
        "print(\"Best Gradient Boosting Parameters:\", gb_grid_search.best_params_)\n",
        "print(\"Best Gradient Boosting Accuracy:\", gb_grid_search.best_score_)\n",
        "\n",
        "# Predict using the best model\n",
        "y_pred_gb_best = gb_grid_search.best_estimator_.predict(X_test)\n",
        "\n",
        "# Evaluate the best model\n",
        "evaluate_model(y_test, y_pred_gb_best, \"Gradient Boosting (Best)\")\n"
      ],
      "metadata": {
        "colab": {
          "base_uri": "https://localhost:8080/",
          "height": 0
        },
        "id": "w7kD5wvYSzw8",
        "outputId": "d1dab3f8-cfd6-48ac-e7c7-6e16d932e085"
      },
      "execution_count": 46,
      "outputs": [
        {
          "output_type": "stream",
          "name": "stdout",
          "text": [
            "Best Gradient Boosting Parameters: {'learning_rate': 0.01, 'max_depth': 3, 'n_estimators': 200}\n",
            "Best Gradient Boosting Accuracy: 0.9148612872800598\n",
            "Gradient Boosting (Best) - Accuracy: 0.9033189033189033\n",
            "Gradient Boosting (Best) - Precision: 0.919629057187017\n",
            "Gradient Boosting (Best) - Recall: 0.9754098360655737\n",
            "Gradient Boosting (Best) - F1 Score: 0.9466984884645983\n",
            "\n"
          ]
        }
      ]
    },
    {
      "cell_type": "markdown",
      "source": [
        "# Summarize Results in a Table"
      ],
      "metadata": {
        "id": "bJ1Esv51T99R"
      }
    },
    {
      "cell_type": "markdown",
      "source": [
        "![Screenshot 2024-11-06 at 8.57.24 PM.png](data:image/png;base64,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)"
      ],
      "metadata": {
        "id": "Bc3f0qMtUK7D"
      }
    },
    {
      "cell_type": "markdown",
      "source": [
        "#Explanation of Results"
      ],
      "metadata": {
        "id": "IjL7A5CbUSmF"
      }
    },
    {
      "cell_type": "markdown",
      "source": [
        "Key Observations\n",
        "Best Performing Model:\n",
        "\n",
        "Gradient Boosting (default and tuned) and Neural Network achieved the highest F1 Scores (around 0.950), showing strong balance between precision and recall.\n",
        "The tuned Random Forest model also performed well with a slightly lower F1 Score compared to Gradient Boosting and Neural Network.\n",
        "Impact of Hyperparameter Tuning:\n",
        "\n",
        "Random Forest: Tuning improved accuracy slightly (from 0.887 to 0.904) and also enhanced recall, indicating the model’s ability to identify positive cases improved with the tuning.\n",
        "Gradient Boosting: The tuned model provided a slight improvement in recall compared to the default model, though the difference was minimal, indicating that Gradient Boosting already performed well with default parameters.\n",
        "Feature Importance:\n",
        "\n",
        "In both Random Forest and Gradient Boosting models, features like Survival Months, Age, Progesterone Status, and Tumor Size were among the most important. This aligns with clinical insights, as these are significant predictors of breast cancer survivability.\n",
        "Conclusion\n",
        "The models developed were able to answer the initial question of predicting breast cancer survivability with reasonable accuracy. The Gradient Boosting and Neural Network models provided the best results overall, with high precision, recall, and F1 scores, indicating robust performance.\n",
        "\n",
        "These results demonstrate that machine learning models, particularly ensemble methods like Gradient Boosting and Random Forest, as well as Neural Networks, can effectively classify survivability in breast cancer patients. Further tuning or advanced model selection may yield even better performance, but the current models show promise in this application."
      ],
      "metadata": {
        "id": "GB_hnVokUUhX"
      }
    },
    {
      "cell_type": "markdown",
      "source": [
        "# Identifying Key Features"
      ],
      "metadata": {
        "id": "vd0Xx7VPWlLg"
      }
    },
    {
      "cell_type": "code",
      "source": [
        "import pandas as pd\n",
        "\n",
        "# Feature importance for Random Forest\n",
        "rf_best_model = rf_grid_search.best_estimator_\n",
        "rf_feature_importance = pd.Series(rf_best_model.feature_importances_, index=X.columns).sort_values(ascending=False)\n",
        "\n",
        "# Display top features for Random Forest\n",
        "print(\"Top features for Random Forest:\\n\", rf_feature_importance.head(10))\n",
        "\n",
        "# Feature importance for Gradient Boosting\n",
        "gb_best_model = gb_grid_search.best_estimator_\n",
        "gb_feature_importance = pd.Series(gb_best_model.feature_importances_, index=X.columns).sort_values(ascending=False)\n",
        "\n",
        "# Display top features for Gradient Boosting\n",
        "print(\"Top features for Gradient Boosting:\\n\", gb_feature_importance.head(10))\n"
      ],
      "metadata": {
        "colab": {
          "base_uri": "https://localhost:8080/",
          "height": 0
        },
        "id": "or4JAqNSUdqN",
        "outputId": "aad29cc0-92e9-40f2-96f9-772b6fb73183"
      },
      "execution_count": 47,
      "outputs": [
        {
          "output_type": "stream",
          "name": "stdout",
          "text": [
            "Top features for Random Forest:\n",
            " Survival Months                 0.575489\n",
            "Age                             0.044942\n",
            "N Stage_N1                      0.026698\n",
            "Progesterone Status_Negative    0.024016\n",
            "Progesterone Status_Positive    0.022308\n",
            "Tumor Size                      0.021775\n",
            "Marital Status_Married          0.015807\n",
            "T Stage _T1                     0.014091\n",
            "Estrogen Status_Negative        0.013513\n",
            "N Stage_N3                      0.012908\n",
            "dtype: float64\n",
            "Top features for Gradient Boosting:\n",
            " Survival Months                 0.805935\n",
            "Age                             0.059758\n",
            "Progesterone Status_Positive    0.033106\n",
            "Progesterone Status_Negative    0.017857\n",
            "N Stage_N1                      0.010631\n",
            "6th Stage_IIA                   0.010419\n",
            "Race_Other                      0.007904\n",
            "N Stage_N3                      0.007028\n",
            "6th Stage_IIIC                  0.007027\n",
            "Regional Node Examined          0.006413\n",
            "dtype: float64\n"
          ]
        }
      ]
    },
    {
      "cell_type": "markdown",
      "source": [
        "# Key Features\n",
        "1. Survival Months: This feature is the most important for both models, which makes sense as it directly correlates with the survivability rate.\n",
        "\n",
        "2. Age: Age is consistently important across both models, indicating it’s a significant predictor of survivability.\n",
        "3. Progesterone Status (Positive/Negative): Both models identify the status of progesterone as a key factor, which aligns with medical research suggesting that hormone receptor status can impact cancer outcomes.\n",
        "4. Tumor Size: This feature is relatively important in the Random Forest model, as larger tumors are often associated with lower survivability.\n",
        "5. Stage Indicators (N Stage, 6th Stage): The stage of cancer (particularly N Stage for lymph nodes and 6th Stage) is influential, indicating the severity and spread of cancer significantly impact survivability."
      ],
      "metadata": {
        "id": "oxwFvfqzUxjb"
      }
    }
  ]
}